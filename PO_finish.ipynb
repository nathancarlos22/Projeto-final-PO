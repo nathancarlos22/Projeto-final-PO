{
  "nbformat": 4,
  "nbformat_minor": 0,
  "metadata": {
    "colab": {
      "name": "PO_finish.ipynb",
      "provenance": [],
      "collapsed_sections": []
    },
    "kernelspec": {
      "name": "python3",
      "display_name": "Python 3"
    }
  },
  "cells": [
    {
      "cell_type": "code",
      "metadata": {
        "id": "VB8kLZ5MG7Kb",
        "colab_type": "code",
        "colab": {}
      },
      "source": [
        "import numpy as np"
      ],
      "execution_count": 0,
      "outputs": []
    },
    {
      "cell_type": "code",
      "metadata": {
        "id": "lvUtPfqWHGW6",
        "colab_type": "code",
        "outputId": "c9ab068c-b695-433c-cf65-b2f3cae4fa4a",
        "colab": {
          "base_uri": "https://localhost:8080/",
          "height": 343
        }
      },
      "source": [
        "!pip install ortools"
      ],
      "execution_count": 2,
      "outputs": [
        {
          "output_type": "stream",
          "text": [
            "Collecting ortools\n",
            "\u001b[?25l  Downloading https://files.pythonhosted.org/packages/db/8f/7c099bcedd55df8f215ba42b50fd4db6fa5de69bb5b14a0586871683edcd/ortools-7.5.7466-cp36-cp36m-manylinux1_x86_64.whl (27.9MB)\n",
            "\u001b[K     |████████████████████████████████| 27.9MB 148kB/s \n",
            "\u001b[?25hCollecting protobuf>=3.11.2\n",
            "\u001b[?25l  Downloading https://files.pythonhosted.org/packages/57/02/5432412c162989260fab61fa65e0a490c1872739eb91a659896e4d554b26/protobuf-3.11.3-cp36-cp36m-manylinux1_x86_64.whl (1.3MB)\n",
            "\u001b[K     |████████████████████████████████| 1.3MB 39.8MB/s \n",
            "\u001b[?25hRequirement already satisfied: six>=1.10 in /usr/local/lib/python3.6/dist-packages (from ortools) (1.12.0)\n",
            "Requirement already satisfied: setuptools in /usr/local/lib/python3.6/dist-packages (from protobuf>=3.11.2->ortools) (46.1.3)\n",
            "Installing collected packages: protobuf, ortools\n",
            "  Found existing installation: protobuf 3.10.0\n",
            "    Uninstalling protobuf-3.10.0:\n",
            "      Successfully uninstalled protobuf-3.10.0\n",
            "Successfully installed ortools-7.5.7466 protobuf-3.11.3\n"
          ],
          "name": "stdout"
        },
        {
          "output_type": "display_data",
          "data": {
            "application/vnd.colab-display-data+json": {
              "pip_warning": {
                "packages": [
                  "google"
                ]
              }
            }
          },
          "metadata": {
            "tags": []
          }
        }
      ]
    },
    {
      "cell_type": "markdown",
      "metadata": {
        "id": "6MjLl6QVfCKv",
        "colab_type": "text"
      },
      "source": [
        "# Lendo arquivo"
      ]
    },
    {
      "cell_type": "code",
      "metadata": {
        "id": "GPxLh941HHpD",
        "colab_type": "code",
        "outputId": "373bd372-085e-4719-bf70-f014cbf046d1",
        "colab": {
          "base_uri": "https://localhost:8080/",
          "height": 34
        }
      },
      "source": [
        "path = 'Problema.txt'\n",
        "arquivo = open(path,'r')\n",
        "numeros = []\n",
        "\n",
        "for linha  in arquivo:\n",
        "  linha = linha.strip()\n",
        "  numeros.append(linha)\n",
        "\n",
        "arquivo.close()\n",
        "numeros"
      ],
      "execution_count": 3,
      "outputs": [
        {
          "output_type": "execute_result",
          "data": {
            "text/plain": [
              "['4 3', '50 60 130 30', '5 5 1 4 5', '9 5 17 20 9', '10 10 12 18 1']"
            ]
          },
          "metadata": {
            "tags": []
          },
          "execution_count": 3
        }
      ]
    },
    {
      "cell_type": "code",
      "metadata": {
        "id": "9Z2gY23zIkCJ",
        "colab_type": "code",
        "colab": {}
      },
      "source": [
        "x1 = numeros[0].split(' ') #Variaveis e restricoes\n",
        "c = numeros[1].split(' ') #Coecicientes das variaveis na funcao objetivo"
      ],
      "execution_count": 0,
      "outputs": []
    },
    {
      "cell_type": "code",
      "metadata": {
        "id": "cjirbbpcIt2y",
        "colab_type": "code",
        "colab": {}
      },
      "source": [
        "rest = len(numeros)-2 #Numeros de restrições\n",
        "var = int(x1[0]) #Números de variáveis"
      ],
      "execution_count": 0,
      "outputs": []
    },
    {
      "cell_type": "code",
      "metadata": {
        "id": "G4G_bVnUJD55",
        "colab_type": "code",
        "outputId": "1641d842-c6db-4b8a-dfdd-2a4298ce115d",
        "colab": {
          "base_uri": "https://localhost:8080/",
          "height": 54
        }
      },
      "source": [
        "a = [0]*rest #inicializando array com o numero de restricoes\n",
        "b = [0]*rest \n",
        "\n",
        "for i in range(2, len(numeros)): #começando em dois pois oq vem depois da linha 2 sao as restricoes\n",
        "    aa = numeros[i].split(' ')\n",
        "    b[i-2] = aa[len(aa)-1]\n",
        "    del(aa[len(aa)-1])\n",
        "    a[i-2] = aa\n",
        "print(a, b, c)"
      ],
      "execution_count": 6,
      "outputs": [
        {
          "output_type": "stream",
          "text": [
            "[['5', '5', '1', '4'], ['9', '5', '17', '20'], ['10', '10', '12', '18']] ['5', '9', '1'] ['50', '60', '130', '30']\n"
          ],
          "name": "stdout"
        }
      ]
    },
    {
      "cell_type": "code",
      "metadata": {
        "id": "HiMwOlntJKzp",
        "colab_type": "code",
        "outputId": "8351b8cb-3262-483a-e119-ebaffa262522",
        "colab": {
          "base_uri": "https://localhost:8080/",
          "height": 68
        }
      },
      "source": [
        "a = np.double( a )\n",
        "b = np.double( b )\n",
        "c = np.double( c )\n",
        "\n",
        "print(a, b, c)"
      ],
      "execution_count": 7,
      "outputs": [
        {
          "output_type": "stream",
          "text": [
            "[[ 5.  5.  1.  4.]\n",
            " [ 9.  5. 17. 20.]\n",
            " [10. 10. 12. 18.]] [5. 9. 1.] [ 50.  60. 130.  30.]\n"
          ],
          "name": "stdout"
        }
      ]
    },
    {
      "cell_type": "code",
      "metadata": {
        "id": "iLZWJscCleHD",
        "colab_type": "code",
        "colab": {}
      },
      "source": [
        "\n",
        "obj= 'Min'  \n",
        "\n",
        "igualdade = 'MoreOrEqual'"
      ],
      "execution_count": 0,
      "outputs": []
    },
    {
      "cell_type": "markdown",
      "metadata": {
        "id": "z4tCaiwBfJ57",
        "colab_type": "text"
      },
      "source": [
        "# Adicionando no modelo"
      ]
    },
    {
      "cell_type": "code",
      "metadata": {
        "id": "qRDYKMa8JZkK",
        "colab_type": "code",
        "colab": {}
      },
      "source": [
        "def create_data_model(A, B, C, num_vars, num_rest):\n",
        "  data = {}\n",
        "  data['constraint_coeffs'] = A\n",
        "  data['bounds'] = B\n",
        "  data['obj_coeffs'] = C\n",
        "  data['num_vars'] = num_vars\n",
        "  data['num_constraints'] = num_rest\n",
        "  return data"
      ],
      "execution_count": 0,
      "outputs": []
    },
    {
      "cell_type": "code",
      "metadata": {
        "id": "5CL3u-vzJcKi",
        "colab_type": "code",
        "colab": {}
      },
      "source": [
        "data = create_data_model(a, b, c, var, rest)"
      ],
      "execution_count": 0,
      "outputs": []
    },
    {
      "cell_type": "code",
      "metadata": {
        "id": "Z2bPMJSulmPz",
        "colab_type": "code",
        "outputId": "9c786b00-95ad-435e-a384-5b8e81e3134c",
        "colab": {
          "base_uri": "https://localhost:8080/",
          "height": 289
        }
      },
      "source": [
        "from ortools.linear_solver import pywraplp\n",
        "solver = pywraplp.Solver('simple_mip_program', pywraplp.Solver.CBC_MIXED_INTEGER_PROGRAMMING)\n",
        "\n",
        "infinity = solver.infinity()\n",
        "x = {}\n",
        "\n",
        "for j in range(data['num_vars']):\n",
        "    x[j] = solver.NumVar(0, 1, 'x[%i]' % j) #Variáveis que pertencem ao conjunto entre 0 e 1\n",
        "\n",
        "print(\"\\n==== Solução inicial ====\\n \")\n",
        "print('\\n\\nNumero de variaveis =', solver.NumVariables())\n",
        "\n",
        "if igualdade == 'MoreOrEqual':\n",
        "  for i in range(data['num_constraints'] ): \n",
        "    constraint = solver.RowConstraint(data['bounds'][i], infinity, '')#limite inferior, superior e nome da restrição\n",
        "    for j in range(data['num_vars']):\n",
        "      constraint.SetCoefficient(x[j], data['constraint_coeffs'][i][j]) \n",
        "\n",
        "print('Numero de restriçoes =', solver.NumConstraints())\n",
        "\n",
        "objective = solver.Objective()\n",
        "\n",
        "for j in range(data['num_vars']):\n",
        "    objective.SetCoefficient(x[j], data['obj_coeffs'][j])\n",
        "\n",
        "if obj == 'Max':\n",
        "  objective.SetMaximization() #Problema de maximização\n",
        "  status = solver.Solve()\n",
        "\n",
        "if obj == 'Min':\n",
        "  objective.SetMinimization() #Problema de minimização\n",
        "  status = solver.Solve()\n",
        "\n",
        "solution_value = []\n",
        "if status == pywraplp.Solver.OPTIMAL:\n",
        "    print('\\nValor ótimo = ', solver.Objective().Value())\n",
        "    for j in range(data['num_vars']):\n",
        "        print(x[j].name(), ' = ', x[j].solution_value())\n",
        "        solution_value.append(x[j].solution_value()) \n",
        "    print()\n",
        "    print('Problema resolvido em %f milliseconds' % solver.wall_time())\n",
        "    print('Problema resolvido em %d nós' % solver.nodes())\n",
        "else:\n",
        "    print('Nao tem solucao otima.')\n",
        "\n",
        "solution = (solution_value, solver.Objective().Value())"
      ],
      "execution_count": 11,
      "outputs": [
        {
          "output_type": "stream",
          "text": [
            "\n",
            "==== Solução inicial ====\n",
            " \n",
            "\n",
            "\n",
            "Numero de variaveis = 4\n",
            "Numero de restriçoes = 3\n",
            "\n",
            "Valor ótimo =  40.0\n",
            "x[0]  =  0.19999999999999996\n",
            "x[1]  =  0.0\n",
            "x[2]  =  0.0\n",
            "x[3]  =  1.0\n",
            "\n",
            "Problema resolvido em 3.000000 milliseconds\n",
            "Problema resolvido em 0 nós\n"
          ],
          "name": "stdout"
        }
      ]
    },
    {
      "cell_type": "markdown",
      "metadata": {
        "id": "PX4DD23fmJ4Y",
        "colab_type": "text"
      },
      "source": [
        "# Função para resolver cada restrição"
      ]
    },
    {
      "cell_type": "code",
      "metadata": {
        "id": "9sWBOm0gK97x",
        "colab_type": "code",
        "colab": {}
      },
      "source": [
        "from __future__ import print_function\n",
        "from ortools.linear_solver import pywraplp\n",
        "\n",
        "def main (Data, index, b): #Main para fazer o branch\n",
        "\n",
        "  solver = pywraplp.Solver('simple_mip_program',\n",
        "                         pywraplp.Solver.CBC_MIXED_INTEGER_PROGRAMMING)\n",
        "\n",
        "  infinity = solver.infinity()\n",
        "  x = {}\n",
        "\n",
        "  for j in range(Data['num_vars']):\n",
        "      x[j] = solver.NumVar(0, 1, 'x[%i]' % j) #Variáveis positivas entre 0 e 1\n",
        "  \n",
        "  print(\"\\n==== Solução ====\\n \")\n",
        "  print('\\n\\nNumero de variaveis =', solver.NumVariables())\n",
        "  \n",
        "  for i in range(Data['num_constraints'] - 1 ): # -1 para nao add a ultima rest\n",
        "    constraint = solver.RowConstraint(Data['bounds'][i], infinity, '')#limite inferior, superior e nome da restrição\n",
        "    for j in range(Data['num_vars']):\n",
        "      constraint.SetCoefficient(x[j], Data['constraint_coeffs'][i][j]) \n",
        "  \n",
        "  y = solver.NumVar(0, 1, 'y')\n",
        "\n",
        "  y = x[index]\n",
        "\n",
        "  solver.Add(y == b)\n",
        "\n",
        "  print('Numero de restriçoes =', solver.NumConstraints())\n",
        "\n",
        "  objective = solver.Objective()\n",
        "  \n",
        "  for j in range(Data['num_vars']):\n",
        "      objective.SetCoefficient(x[j], Data['obj_coeffs'][j])\n",
        "  \n",
        "  if obj == 'Max':\n",
        "    objective.SetMaximization() #Problema de maximização\n",
        "    status = solver.Solve()\n",
        "\n",
        "  if obj == 'Min':\n",
        "    objective.SetMinimization() #Problema de minimização\n",
        "    status = solver.Solve()\n",
        "\n",
        "  solution_value = []\n",
        "  if status == pywraplp.Solver.OPTIMAL:\n",
        "      print('\\nValor ótimo = ', solver.Objective().Value())\n",
        "      for j in range(Data['num_vars']):\n",
        "          print(x[j].name(), ' = ', x[j].solution_value())\n",
        "          solution_value.append(x[j].solution_value()) \n",
        "      print()\n",
        "      print('Problema resolvido em %f milliseconds' % solver.wall_time())\n",
        "      print('Problema resolvido em %d nós' % solver.nodes())\n",
        "  else:\n",
        "      print('Nao tem solucao otima.')\n",
        "\n",
        "      \n",
        "  return (solution_value, solver.Objective().Value())"
      ],
      "execution_count": 0,
      "outputs": []
    },
    {
      "cell_type": "markdown",
      "metadata": {
        "id": "9gpgGVDrfZL5",
        "colab_type": "text"
      },
      "source": [
        "# Adicionar uma restrição no modelo"
      ]
    },
    {
      "cell_type": "code",
      "metadata": {
        "id": "U7lbhsuBJetZ",
        "colab_type": "code",
        "colab": {}
      },
      "source": [
        "def append_data_model (Data, index, b): #Adiciona ao modelo uma restrição\n",
        "    if index == -1:\n",
        "      return Data\n",
        "\n",
        "    A = Data['constraint_coeffs']\n",
        "    B = Data['bounds']\n",
        "    C = Data['obj_coeffs']\n",
        "    num_vars = Data['num_vars']\n",
        "    num_rest = Data['num_constraints'] + 1\n",
        "\n",
        "    data = {} #Criando outro data para nao alterar oq vir do parametro\n",
        "    data['constraint_coeffs'] = A\n",
        "    data['bounds'] = B\n",
        "    data['obj_coeffs'] = C\n",
        "    data['num_vars'] = num_vars\n",
        "    data['num_constraints'] = num_rest\n",
        "\n",
        "    #Dar um append na restrição indicando qual coeficiente do x é, se for x1, o array é [1 0 0]\n",
        "\n",
        "    var_x = [0]*data['num_vars']\n",
        "    x=[]\n",
        "\n",
        "    for i in range(0, data['num_vars']):\n",
        "      if i == index:\n",
        "        var_x[index] = 1\n",
        "        x.append(var_x)\n",
        "        data['constraint_coeffs'] = np.append(A, x, axis=0)\n",
        "\n",
        "    #Dar append no lado direito da igualdade\n",
        "    data['bounds'] = np.append(B, b)\n",
        "\n",
        "    return data"
      ],
      "execution_count": 0,
      "outputs": []
    },
    {
      "cell_type": "markdown",
      "metadata": {
        "id": "U4Z7O3S0fj0-",
        "colab_type": "text"
      },
      "source": [
        "# Exemplo de quemo fica o modelo adicionando as restrições"
      ]
    },
    {
      "cell_type": "code",
      "metadata": {
        "id": "ePpMfTf-J35m",
        "colab_type": "code",
        "colab": {}
      },
      "source": [
        "data1 = append_data_model(data, 2, 0) #modelo, index da variavel que sera relaxada e o lado direito (bounds)\n",
        "data2 = append_data_model(data, 2, 1)"
      ],
      "execution_count": 0,
      "outputs": []
    },
    {
      "cell_type": "code",
      "metadata": {
        "id": "resNRnbsNlau",
        "colab_type": "code",
        "outputId": "1769646e-ae89-4f08-82d2-43c2560c39d9",
        "colab": {
          "base_uri": "https://localhost:8080/",
          "height": 173
        }
      },
      "source": [
        "print(data1)\n",
        "print(data2)"
      ],
      "execution_count": 15,
      "outputs": [
        {
          "output_type": "stream",
          "text": [
            "{'constraint_coeffs': array([[ 5.,  5.,  1.,  4.],\n",
            "       [ 9.,  5., 17., 20.],\n",
            "       [10., 10., 12., 18.],\n",
            "       [ 0.,  0.,  1.,  0.]]), 'bounds': array([5., 9., 1., 0.]), 'obj_coeffs': array([ 50.,  60., 130.,  30.]), 'num_vars': 4, 'num_constraints': 4}\n",
            "{'constraint_coeffs': array([[ 5.,  5.,  1.,  4.],\n",
            "       [ 9.,  5., 17., 20.],\n",
            "       [10., 10., 12., 18.],\n",
            "       [ 0.,  0.,  1.,  0.]]), 'bounds': array([5., 9., 1., 1.]), 'obj_coeffs': array([ 50.,  60., 130.,  30.]), 'num_vars': 4, 'num_constraints': 4}\n"
          ],
          "name": "stdout"
        }
      ]
    },
    {
      "cell_type": "code",
      "metadata": {
        "id": "lTACmv75EFBz",
        "colab_type": "code",
        "outputId": "39304fef-69fb-4732-dc3c-e996635d989e",
        "colab": {
          "base_uri": "https://localhost:8080/",
          "height": 578
        }
      },
      "source": [
        "main(data1, 2, 0)\n",
        "main(data2, 2, 1)"
      ],
      "execution_count": 16,
      "outputs": [
        {
          "output_type": "stream",
          "text": [
            "\n",
            "==== Solução ====\n",
            " \n",
            "\n",
            "\n",
            "Numero de variaveis = 4\n",
            "Numero de restriçoes = 4\n",
            "\n",
            "Valor ótimo =  40.0\n",
            "x[0]  =  0.19999999999999996\n",
            "x[1]  =  0.0\n",
            "x[2]  =  0.0\n",
            "x[3]  =  1.0\n",
            "\n",
            "Problema resolvido em 5.000000 milliseconds\n",
            "Problema resolvido em 0 nós\n",
            "\n",
            "==== Solução ====\n",
            " \n",
            "\n",
            "\n",
            "Numero de variaveis = 4\n",
            "Numero de restriçoes = 4\n",
            "\n",
            "Valor ótimo =  160.0\n",
            "x[0]  =  0.0\n",
            "x[1]  =  0.0\n",
            "x[2]  =  1.0\n",
            "x[3]  =  1.0\n",
            "\n",
            "Problema resolvido em 4.000000 milliseconds\n",
            "Problema resolvido em 0 nós\n"
          ],
          "name": "stdout"
        },
        {
          "output_type": "execute_result",
          "data": {
            "text/plain": [
              "([0.0, 0.0, 1.0, 1.0], 160.0)"
            ]
          },
          "metadata": {
            "tags": []
          },
          "execution_count": 16
        }
      ]
    },
    {
      "cell_type": "markdown",
      "metadata": {
        "id": "_lw0A50AsyhL",
        "colab_type": "text"
      },
      "source": [
        "# Árvore"
      ]
    },
    {
      "cell_type": "code",
      "metadata": {
        "id": "j0aDVTOk5EeE",
        "colab_type": "code",
        "colab": {}
      },
      "source": [
        "class Tree(object):\n",
        "    def __init__(self, solution, modelo, left=None, right=None):\n",
        "        self.solution = solution\n",
        "        self.modelo = modelo\n",
        "        self.left = left\n",
        "        self.right = right"
      ],
      "execution_count": 0,
      "outputs": []
    },
    {
      "cell_type": "markdown",
      "metadata": {
        "id": "tT5W75EKDybs",
        "colab_type": "text"
      },
      "source": [
        "# Verificar se a variável é um número inteiro"
      ]
    },
    {
      "cell_type": "code",
      "metadata": {
        "id": "MjM58-XDDwVd",
        "colab_type": "code",
        "colab": {}
      },
      "source": [
        "def isInt (string):\n",
        "  t = True\n",
        "  for i in range(len(string)):\n",
        "    if string[i] == '.':\n",
        "      \n",
        "      j=i+1\n",
        "      if j >=len(string):\n",
        "        return t\n",
        "      for j in range(j,len(string)):\n",
        "        if int(string[j]) != 0:\n",
        "          t = False\n",
        "  return t"
      ],
      "execution_count": 0,
      "outputs": []
    },
    {
      "cell_type": "markdown",
      "metadata": {
        "id": "XEIxUUfSEBBY",
        "colab_type": "text"
      },
      "source": [
        "# Verificar integralidade e a menor distância entre as variáveis\n",
        "- O valor abs da diminuição com o valor da variável\n",
        "- retorna o indice da variável (para poder adicionar depois na restrição)\n",
        "- se retornar -1 quer dizer q todos os valores são inteiros"
      ]
    },
    {
      "cell_type": "code",
      "metadata": {
        "id": "XpfMo8Ed5UcK",
        "colab_type": "code",
        "colab": {}
      },
      "source": [
        "def Verifica_integralidade(Solution):\n",
        "    episilon = 10e3; #colocando um valor grande para iniciar\n",
        "    Index_Da_menor_dist = -1  # Se for -1 todos os x são inteiros\n",
        "\n",
        "    # precisa verificar se os valores em x são inteiros e verificar se está próximo de 0.5\n",
        "\n",
        "    for i in range(len(Solution)): #menor que 1 pois o ultimo é o valor de z\n",
        "      if isInt(str(Solution[i])) == False: #Se for false, quer dizer que tem dígito\n",
        "        distancia = abs(Solution[i] - 0.5)\n",
        "\n",
        "        if distancia < episilon: #Se esse valor for menor do que oq já tem no episilon, coloca ele lá\n",
        "          episilon = distancia\n",
        "          Index_Da_menor_dist = i\n",
        "\n",
        "    return Index_Da_menor_dist"
      ],
      "execution_count": 0,
      "outputs": []
    },
    {
      "cell_type": "markdown",
      "metadata": {
        "id": "1y_tmCFy5tJp",
        "colab_type": "text"
      },
      "source": [
        "# Pilha\n",
        "- Na pilha é colocado a solução do dual e primal\n",
        "- No momento da inserção da solução na pilha, precisa verificar:\n",
        "      - Se tiver vazia, só insere\n",
        "      - Se não tiver vazia, verifica se a solução é inteira (integralidade) e se a solução que já está lá é melhor que será inserida (limitante)"
      ]
    },
    {
      "cell_type": "code",
      "metadata": {
        "id": "Krq_Gx8b5vqb",
        "colab_type": "code",
        "outputId": "2c679f1d-3438-4976-fafd-c5a47f5bca9e",
        "colab": {
          "base_uri": "https://localhost:8080/",
          "height": 105
        }
      },
      "source": [
        "!pip install pythonds"
      ],
      "execution_count": 20,
      "outputs": [
        {
          "output_type": "stream",
          "text": [
            "Collecting pythonds\n",
            "  Downloading https://files.pythonhosted.org/packages/d5/23/3a6d8983605ba23ca972754a0ac81d1da3c9ea0a6f01b5b73d2bde3ac9fb/pythonds-1.2.1-py3-none-any.whl\n",
            "Installing collected packages: pythonds\n",
            "Successfully installed pythonds-1.2.1\n"
          ],
          "name": "stdout"
        }
      ]
    },
    {
      "cell_type": "code",
      "metadata": {
        "id": "6i3dTuTvE0pK",
        "colab_type": "code",
        "colab": {}
      },
      "source": [
        "from pythonds.basic.stack import Stack\n",
        "menosInfinity = -9999 \n",
        "maisInfinity = 9999\n",
        "\n",
        "class Pilha:\n",
        "  def __init__(self):\n",
        "    self.items = [[[], menosInfinity], [[], maisInfinity]] #DUAL e PRIMAL minimização\n",
        "\n",
        "  def isEmpty(self):\n",
        "    return self.items == [[[], menosInfinity], [[], maisInfinity]]\n",
        "  \n",
        "  def push(self, item):   \n",
        "    \n",
        "    vars = item[0]\n",
        "    tamVars = len(vars)\n",
        "\n",
        "    vAdd = item[1]\n",
        "    dual = pilha.see()[0]\n",
        "    primal = pilha.see()[1]\n",
        "\n",
        "    if self.isEmpty() != True: #Se não tiver vazia\n",
        "      t = -1\n",
        "      for i in range(0, tamVars): #percorrer os x's\n",
        "        if isInt(str(vars[i])) != True: #se tiver um NAO inteiro \n",
        "          t = 0\n",
        "          break\n",
        "      if t == 0 and vAdd >= dual[1] and vAdd != 0 or dual[1] == maisInfinity: #se o valor otimo for maior que o dual, adiciona      \n",
        "        self.items.append(item)\n",
        "        self.items.append(primal)\n",
        "          \n",
        "      if t == -1 and vAdd <= primal[1] and vAdd != 0 or primal[1] == menosInfinity: #se for inteiro e o valor for menor, add o primal \"==infinity para caso seja infinito adicionar\"\n",
        "        self.items.append(dual)\n",
        "        self.items.append(item)\n",
        "      \n",
        "    elif self.isEmpty() == True: #Se tiver vazia, adiciona \n",
        "      self.items.append(item)\n",
        "      self.items.append(primal)\n",
        "      \n",
        "  def pop(self):\n",
        "    return self.items.pop()\n",
        "\n",
        "  def see(self):\n",
        "    return (self.items[len(self.items)-2], self.items[len(self.items)-1])\n",
        "\n",
        "pilha = Pilha()"
      ],
      "execution_count": 0,
      "outputs": []
    },
    {
      "cell_type": "markdown",
      "metadata": {
        "id": "zx22ym17gceN",
        "colab_type": "text"
      },
      "source": [
        "# Exemplo como fica a pilha"
      ]
    },
    {
      "cell_type": "code",
      "metadata": {
        "id": "ST_koaHR1EOh",
        "colab_type": "code",
        "outputId": "3b737e64-8403-48da-c4a5-6dd09751dc1a",
        "colab": {
          "base_uri": "https://localhost:8080/",
          "height": 34
        }
      },
      "source": [
        "pilha.see()"
      ],
      "execution_count": 22,
      "outputs": [
        {
          "output_type": "execute_result",
          "data": {
            "text/plain": [
              "([[], -9999], [[], 9999])"
            ]
          },
          "metadata": {
            "tags": []
          },
          "execution_count": 22
        }
      ]
    },
    {
      "cell_type": "code",
      "metadata": {
        "id": "I8UURlFPNpdt",
        "colab_type": "code",
        "outputId": "892c23b2-62b2-4c07-9fbd-441adf71b7f5",
        "colab": {
          "base_uri": "https://localhost:8080/",
          "height": 34
        }
      },
      "source": [
        "pilha.push([[0.75, 1.0, 0.0], 13.75]) #Adicioanndo um x's nao inteiros, adiciona no dual\n",
        "print(pilha.see())"
      ],
      "execution_count": 23,
      "outputs": [
        {
          "output_type": "stream",
          "text": [
            "([[0.75, 1.0, 0.0], 13.75], [[], 9999])\n"
          ],
          "name": "stdout"
        }
      ]
    },
    {
      "cell_type": "code",
      "metadata": {
        "id": "dJG-KeRii8rx",
        "colab_type": "code",
        "outputId": "737a9483-6903-470d-8b46-8103bfd623a1",
        "colab": {
          "base_uri": "https://localhost:8080/",
          "height": 34
        }
      },
      "source": [
        "pilha.push([[1.0, 0.5000000000000001, 0.2499999999999999], 12.0]) #, caso a solução nao seja melhor que a que já tem nao adiciona no dual\n",
        "print(pilha.see())"
      ],
      "execution_count": 24,
      "outputs": [
        {
          "output_type": "stream",
          "text": [
            "([[0.75, 1.0, 0.0], 13.75], [[], 9999])\n"
          ],
          "name": "stdout"
        }
      ]
    },
    {
      "cell_type": "code",
      "metadata": {
        "id": "R5ecFNdBv4uR",
        "colab_type": "code",
        "outputId": "2a173995-ff1d-4c5f-c57e-b265abcf1a4b",
        "colab": {
          "base_uri": "https://localhost:8080/",
          "height": 34
        }
      },
      "source": [
        "pilha.push([[0.5, 1, 18], 17]) #se a solucao do dual for melhor, adiciona\n",
        "print(pilha.see())"
      ],
      "execution_count": 25,
      "outputs": [
        {
          "output_type": "stream",
          "text": [
            "([[0.5, 1, 18], 17], [[], 9999])\n"
          ],
          "name": "stdout"
        }
      ]
    },
    {
      "cell_type": "code",
      "metadata": {
        "id": "oejgYJMJjRdL",
        "colab_type": "code",
        "outputId": "cfc93bb9-5d6e-47f2-ccd0-8d5770ba2a36",
        "colab": {
          "base_uri": "https://localhost:8080/",
          "height": 34
        }
      },
      "source": [
        "pilha.push([[1, 1, 1], 5]) #se for com criterio de integralidade, adiciona no primal\n",
        "print(pilha.see())"
      ],
      "execution_count": 26,
      "outputs": [
        {
          "output_type": "stream",
          "text": [
            "([[0.5, 1, 18], 17], [[1, 1, 1], 5])\n"
          ],
          "name": "stdout"
        }
      ]
    },
    {
      "cell_type": "code",
      "metadata": {
        "id": "-PaFzCK-zXVq",
        "colab_type": "code",
        "outputId": "2a65906b-84bc-449f-ff8d-d8ba73c44120",
        "colab": {
          "base_uri": "https://localhost:8080/",
          "height": 34
        }
      },
      "source": [
        "pilha.push([[1, 1, 1], 18]) #se for maior nao adiciona no primal\n",
        "print(pilha.see())"
      ],
      "execution_count": 27,
      "outputs": [
        {
          "output_type": "stream",
          "text": [
            "([[0.5, 1, 18], 17], [[1, 1, 1], 5])\n"
          ],
          "name": "stdout"
        }
      ]
    },
    {
      "cell_type": "code",
      "metadata": {
        "id": "oe9qkuZ1M8K1",
        "colab_type": "code",
        "outputId": "beb08e7a-9947-418f-fcc9-c0b26b5687c0",
        "colab": {
          "base_uri": "https://localhost:8080/",
          "height": 34
        }
      },
      "source": [
        "pilha.push([[1, 1, 1], 1]) #se for menor adiciona no primal\n",
        "print(pilha.see())"
      ],
      "execution_count": 28,
      "outputs": [
        {
          "output_type": "stream",
          "text": [
            "([[0.5, 1, 18], 17], [[1, 1, 1], 1])\n"
          ],
          "name": "stdout"
        }
      ]
    },
    {
      "cell_type": "code",
      "metadata": {
        "id": "tQnDTrjpM0VV",
        "colab_type": "code",
        "outputId": "b4f6d206-4d3f-4bdd-cd91-5ea5fe817b8c",
        "colab": {
          "base_uri": "https://localhost:8080/",
          "height": 34
        }
      },
      "source": [
        "pilha = Pilha() #reinicializando a pilha\n",
        "print(pilha.see())"
      ],
      "execution_count": 29,
      "outputs": [
        {
          "output_type": "stream",
          "text": [
            "([[], -9999], [[], 9999])\n"
          ],
          "name": "stdout"
        }
      ]
    },
    {
      "cell_type": "markdown",
      "metadata": {
        "id": "dGOCRtaihdzG",
        "colab_type": "text"
      },
      "source": [
        "# Adicionando lado direito e esquerdo da árvore"
      ]
    },
    {
      "cell_type": "code",
      "metadata": {
        "id": "b6XWuuKXkDjg",
        "colab_type": "code",
        "colab": {}
      },
      "source": [
        "def AddArv(arv, data_left, data_right, index):\n",
        "  solution_right = main(data_right, index, 1 )\n",
        "  solution_left  = main(data_left, index, 0 )\n",
        "\n",
        "  arv.left  = Tree( solution_left, data_left  ) \n",
        "  arv.right  = Tree( solution_right, data_right )\n",
        "\n",
        "  pilha.push(solution_right)\n",
        "  pilha.push(solution_left )\n",
        "\n",
        "  print(\"\\nNó pai\\n \", arv.solution)\n",
        "  print(\"\\nLADO ESQUERDO:\\n\", arv.left.solution)\n",
        "  print(\"LADO DIREITO: \\n\", arv.right.solution)\n",
        "\n",
        "  print(\"Dual: %f Primal: %f\\n\" % (pilha.see()[0][1], pilha.see()[1][1]))"
      ],
      "execution_count": 0,
      "outputs": []
    },
    {
      "cell_type": "markdown",
      "metadata": {
        "id": "AAaKWmzThhph",
        "colab_type": "text"
      },
      "source": [
        "# Percorrendo a arvore"
      ]
    },
    {
      "cell_type": "code",
      "metadata": {
        "id": "I367hpNULJiM",
        "colab_type": "code",
        "colab": {}
      },
      "source": [
        "no = 0\n",
        "def Profun (tree, no):\n",
        "  no = no +1\n",
        "  print(\"Nó %d\" % (no))\n",
        "  \n",
        "  primal = pilha.see()[1][1]\n",
        "  dual = pilha.see()[0][1]\n",
        "\n",
        "  index = Verifica_integralidade(tree.solution[0])\n",
        "  print(tree.solution[1])\n",
        "  print(primal)\n",
        "  print(dual)\n",
        "  \n",
        "    \n",
        "  b_limite_para_cima  = (\"%0.f\") % tree.solution[0][index] #lado arredondado. se for 0.5 fica 1\n",
        "  b_limite_para_baixo = (\"%d\"  ) % tree.solution[0][index] #lado inteiro. se for 0.5 fica 0\n",
        "\n",
        "  data_left  = append_data_model(tree.modelo, int(index), int(b_limite_para_baixo ))\n",
        "  data_right = append_data_model(tree.modelo, int(index), int(b_limite_para_cima ))\n",
        "\n",
        "  AddArv(tree, data_left, data_right, index) #Adiciona o lado esquerdo e direito na arvore\n",
        "\n",
        "  index_left = Verifica_integralidade(tree.left.solution[0])\n",
        "  index_right = Verifica_integralidade(tree.right.solution[0])\n",
        "\n",
        "  #Se o valor da solução for menor que o primal e maior que o dual, aprofunda\n",
        "  if index_left != -1 and tree.left.solution[1] < primal and tree.left.solution[1]  >=dual:\n",
        "    Profun (tree.left, no)\n",
        "\n",
        "  if index_right != -1 and tree.right.solution[1] < primal and tree.right.solution[1] >= dual:\n",
        "    Profun (tree.right, no)\n",
        "  else :\n",
        "    return 0"
      ],
      "execution_count": 0,
      "outputs": []
    },
    {
      "cell_type": "code",
      "metadata": {
        "id": "2pOjKCDBNgAE",
        "colab_type": "code",
        "outputId": "9f99147d-c6bd-4896-d258-ef77728792c5",
        "colab": {
          "base_uri": "https://localhost:8080/",
          "height": 1000
        }
      },
      "source": [
        "tree = Tree(solution, data)\n",
        "pilha.push(tree.solution)\n",
        "print(pilha.see())\n",
        "\n",
        "print(\"======== Iniciando a árvore =========\\n\")\n",
        "# Profun(tree)\n",
        "Profun(tree, no)"
      ],
      "execution_count": 32,
      "outputs": [
        {
          "output_type": "stream",
          "text": [
            "(([0.19999999999999996, 0.0, 0.0, 1.0], 40.0), [[], 9999])\n",
            "======== Iniciando a árvore =========\n",
            "\n",
            "Nó 1\n",
            "40.0\n",
            "9999\n",
            "40.0\n",
            "\n",
            "==== Solução ====\n",
            " \n",
            "\n",
            "\n",
            "Numero de variaveis = 4\n",
            "Numero de restriçoes = 4\n",
            "\n",
            "Valor ótimo =  50.0\n",
            "x[0]  =  1.0\n",
            "x[1]  =  0.0\n",
            "x[2]  =  0.0\n",
            "x[3]  =  0.0\n",
            "\n",
            "Problema resolvido em 5.000000 milliseconds\n",
            "Problema resolvido em 0 nós\n",
            "\n",
            "==== Solução ====\n",
            " \n",
            "\n",
            "\n",
            "Numero de variaveis = 4\n",
            "Numero de restriçoes = 4\n",
            "\n",
            "Valor ótimo =  42.0\n",
            "x[0]  =  0.0\n",
            "x[1]  =  0.19999999999999996\n",
            "x[2]  =  0.0\n",
            "x[3]  =  1.0\n",
            "\n",
            "Problema resolvido em 4.000000 milliseconds\n",
            "Problema resolvido em 0 nós\n",
            "\n",
            "Nó pai\n",
            "  ([0.19999999999999996, 0.0, 0.0, 1.0], 40.0)\n",
            "\n",
            "LADO ESQUERDO:\n",
            " ([0.0, 0.19999999999999996, 0.0, 1.0], 42.0)\n",
            "LADO DIREITO: \n",
            " ([1.0, 0.0, 0.0, 0.0], 50.0)\n",
            "Dual: 42.000000 Primal: 50.000000\n",
            "\n",
            "Nó 2\n",
            "42.0\n",
            "50.0\n",
            "42.0\n",
            "\n",
            "==== Solução ====\n",
            " \n",
            "\n",
            "\n",
            "Numero de variaveis = 4\n",
            "Numero de restriçoes = 5\n",
            "\n",
            "Valor ótimo =  66.0\n",
            "x[0]  =  0.0\n",
            "x[1]  =  1.0\n",
            "x[2]  =  0.0\n",
            "x[3]  =  0.2\n",
            "\n",
            "Problema resolvido em 4.000000 milliseconds\n",
            "Problema resolvido em 0 nós\n",
            "\n",
            "==== Solução ====\n",
            " \n",
            "\n",
            "\n",
            "Numero de variaveis = 4\n",
            "Numero de restriçoes = 5\n",
            "\n",
            "Valor ótimo =  40.0\n",
            "x[0]  =  0.19999999999999996\n",
            "x[1]  =  0.0\n",
            "x[2]  =  0.0\n",
            "x[3]  =  1.0\n",
            "\n",
            "Problema resolvido em 3.000000 milliseconds\n",
            "Problema resolvido em 0 nós\n",
            "\n",
            "Nó pai\n",
            "  ([0.0, 0.19999999999999996, 0.0, 1.0], 42.0)\n",
            "\n",
            "LADO ESQUERDO:\n",
            " ([0.19999999999999996, 0.0, 0.0, 1.0], 40.0)\n",
            "LADO DIREITO: \n",
            " ([0.0, 1.0, 0.0, 0.2], 66.0)\n",
            "Dual: 66.000000 Primal: 50.000000\n",
            "\n"
          ],
          "name": "stdout"
        },
        {
          "output_type": "execute_result",
          "data": {
            "text/plain": [
              "0"
            ]
          },
          "metadata": {
            "tags": []
          },
          "execution_count": 32
        }
      ]
    },
    {
      "cell_type": "code",
      "metadata": {
        "id": "aicSz7X3bn6f",
        "colab_type": "code",
        "outputId": "3df91b9b-2288-43d8-dbc7-3487348a7065",
        "colab": {
          "base_uri": "https://localhost:8080/",
          "height": 68
        }
      },
      "source": [
        "solucao = pilha.see()\n",
        "print(\"Solução que está na pilha = \")\n",
        "print(solucao)\n",
        "print()"
      ],
      "execution_count": 33,
      "outputs": [
        {
          "output_type": "stream",
          "text": [
            "Solução que está na pilha = \n",
            "(([0.0, 1.0, 0.0, 0.2], 66.0), ([1.0, 0.0, 0.0, 0.0], 50.0))\n",
            "\n"
          ],
          "name": "stdout"
        }
      ]
    },
    {
      "cell_type": "code",
      "metadata": {
        "id": "L7M4JoQZqZ9q",
        "colab_type": "code",
        "outputId": "c7fafc14-2be6-4acc-cdfc-e7478b6ff1c3",
        "colab": {
          "base_uri": "https://localhost:8080/",
          "height": 119
        }
      },
      "source": [
        "print(\"Solução ótima: \")\n",
        "x = solucao[1][0]\n",
        "z = solucao[1][1]\n",
        "\n",
        "for i in range(0,len(x)):\n",
        "  print('x[%d] = %d' % (i, x[i]))\n",
        "\n",
        "print(\"Solucao z = %d\" % z)"
      ],
      "execution_count": 35,
      "outputs": [
        {
          "output_type": "stream",
          "text": [
            "Solução ótima: \n",
            "x[0] = 1\n",
            "x[1] = 0\n",
            "x[2] = 0\n",
            "x[3] = 0\n",
            "Solucao z = 50\n"
          ],
          "name": "stdout"
        }
      ]
    },
    {
      "cell_type": "code",
      "metadata": {
        "id": "m5G4KQAPrDE3",
        "colab_type": "code",
        "colab": {}
      },
      "source": [
        ""
      ],
      "execution_count": 0,
      "outputs": []
    }
  ]
}