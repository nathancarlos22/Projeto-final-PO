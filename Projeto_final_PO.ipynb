{
  "nbformat": 4,
  "nbformat_minor": 0,
  "metadata": {
    "colab": {
      "name": "Projeto final PO.ipynb",
      "provenance": [],
      "collapsed_sections": []
    },
    "kernelspec": {
      "name": "python3",
      "display_name": "Python 3"
    }
  },
  "cells": [
    {
      "cell_type": "code",
      "metadata": {
        "id": "VB8kLZ5MG7Kb",
        "colab_type": "code",
        "colab": {}
      },
      "source": [
        "import numpy as np"
      ],
      "execution_count": 0,
      "outputs": []
    },
    {
      "cell_type": "code",
      "metadata": {
        "id": "lvUtPfqWHGW6",
        "colab_type": "code",
        "outputId": "27ae000e-7121-4991-dc00-97dd599c30ca",
        "colab": {
          "base_uri": "https://localhost:8080/",
          "height": 105
        }
      },
      "source": [
        "!pip install ortools"
      ],
      "execution_count": 59,
      "outputs": [
        {
          "output_type": "stream",
          "text": [
            "Requirement already satisfied: ortools in /usr/local/lib/python3.6/dist-packages (7.5.7466)\n",
            "Requirement already satisfied: six>=1.10 in /usr/local/lib/python3.6/dist-packages (from ortools) (1.12.0)\n",
            "Requirement already satisfied: protobuf>=3.11.2 in /usr/local/lib/python3.6/dist-packages (from ortools) (3.11.3)\n",
            "Requirement already satisfied: setuptools in /usr/local/lib/python3.6/dist-packages (from protobuf>=3.11.2->ortools) (46.1.3)\n"
          ],
          "name": "stdout"
        }
      ]
    },
    {
      "cell_type": "markdown",
      "metadata": {
        "id": "6MjLl6QVfCKv",
        "colab_type": "text"
      },
      "source": [
        "# Lendo arquivo"
      ]
    },
    {
      "cell_type": "code",
      "metadata": {
        "id": "GPxLh941HHpD",
        "colab_type": "code",
        "outputId": "bd5817d6-d237-48fe-fbbb-48d79c728fab",
        "colab": {
          "base_uri": "https://localhost:8080/",
          "height": 34
        }
      },
      "source": [
        "path = 'Problema.txt'\n",
        "arquivo = open(path,'r')\n",
        "numeros = []\n",
        "\n",
        "for linha  in arquivo:\n",
        "  linha = linha.strip()\n",
        "  numeros.append(linha)\n",
        "\n",
        "arquivo.close()\n",
        "numeros"
      ],
      "execution_count": 60,
      "outputs": [
        {
          "output_type": "execute_result",
          "data": {
            "text/plain": [
              "['3 2', '5 10 8', '3 5 2 6', '4 4 4 7']"
            ]
          },
          "metadata": {
            "tags": []
          },
          "execution_count": 60
        }
      ]
    },
    {
      "cell_type": "code",
      "metadata": {
        "id": "9Z2gY23zIkCJ",
        "colab_type": "code",
        "colab": {}
      },
      "source": [
        "x1 = numeros[0].split(' ') #Variaveis e restricoes\n",
        "c = numeros[1].split(' ') #Coecicientes das variaveis na funcao objetivo"
      ],
      "execution_count": 0,
      "outputs": []
    },
    {
      "cell_type": "code",
      "metadata": {
        "id": "cjirbbpcIt2y",
        "colab_type": "code",
        "colab": {}
      },
      "source": [
        "rest = len(numeros)-2 #Numeros de restrições\n",
        "var = int(x1[0]) #Números de variáveis"
      ],
      "execution_count": 0,
      "outputs": []
    },
    {
      "cell_type": "code",
      "metadata": {
        "id": "G4G_bVnUJD55",
        "colab_type": "code",
        "outputId": "d0bf2014-e410-49b4-d955-961f9a0ea517",
        "colab": {
          "base_uri": "https://localhost:8080/",
          "height": 34
        }
      },
      "source": [
        "a = [0]*rest #inicializando array com o numero de restricoes\n",
        "b = [0]*rest \n",
        "\n",
        "for i in range(2, len(numeros)): #começando em dois pois oq vem depois da linha 2 sao as restricoes\n",
        "    aa = numeros[i].split(' ')\n",
        "    b[i-2] = aa[len(aa)-1]\n",
        "    del(aa[len(aa)-1])\n",
        "    a[i-2] = aa\n",
        "print(a, b, c)"
      ],
      "execution_count": 63,
      "outputs": [
        {
          "output_type": "stream",
          "text": [
            "[['3', '5', '2'], ['4', '4', '4']] ['6', '7'] ['5', '10', '8']\n"
          ],
          "name": "stdout"
        }
      ]
    },
    {
      "cell_type": "code",
      "metadata": {
        "id": "HiMwOlntJKzp",
        "colab_type": "code",
        "outputId": "67ad27d5-e9b5-4c80-d867-8581f57973c1",
        "colab": {
          "base_uri": "https://localhost:8080/",
          "height": 51
        }
      },
      "source": [
        "a = np.double( a )\n",
        "b = np.double( b )\n",
        "c = np.double( c )\n",
        "\n",
        "print(a, b, c)"
      ],
      "execution_count": 64,
      "outputs": [
        {
          "output_type": "stream",
          "text": [
            "[[3. 5. 2.]\n",
            " [4. 4. 4.]] [6. 7.] [ 5. 10.  8.]\n"
          ],
          "name": "stdout"
        }
      ]
    },
    {
      "cell_type": "code",
      "metadata": {
        "id": "iLZWJscCleHD",
        "colab_type": "code",
        "colab": {
          "base_uri": "https://localhost:8080/",
          "height": 51
        },
        "outputId": "04fa819f-9444-4481-c0a8-a6496e4ab16f"
      },
      "source": [
        "Igualdade = input(\"Digite 1 se as restrições forem menores ou iguais ou 2 se forem maiores ou iguais\")\n",
        "Obj = input(\"Digite 1 se a funcao objetivo é de maximização ou 2 se for de minimização\")\n",
        "\n",
        "if Obj == 1:\n",
        "  obj = 'Max'\n",
        "else:\n",
        "  obj= 'Min'  \n",
        "\n",
        "if Igualdade == 1:\n",
        "  igualdade = 'LessOrEqual'\n",
        "else:\n",
        "  igualdade = 'MoreOrEqual'"
      ],
      "execution_count": 65,
      "outputs": [
        {
          "output_type": "stream",
          "text": [
            "Digite 1 se as restrições forem menores ou iguais ou 2 se forem maiores ou iguais2\n",
            "Digite 1 se a funcao objetivo é de maximização ou 2 se for de minimização2\n"
          ],
          "name": "stdout"
        }
      ]
    },
    {
      "cell_type": "markdown",
      "metadata": {
        "id": "z4tCaiwBfJ57",
        "colab_type": "text"
      },
      "source": [
        "# Adicionando no modelo"
      ]
    },
    {
      "cell_type": "code",
      "metadata": {
        "id": "qRDYKMa8JZkK",
        "colab_type": "code",
        "colab": {}
      },
      "source": [
        "def create_data_model(A, B, C, num_vars, num_rest):\n",
        "  data = {}\n",
        "  data['constraint_coeffs'] = A\n",
        "  data['bounds'] = B\n",
        "  data['obj_coeffs'] = C\n",
        "  data['num_vars'] = num_vars\n",
        "  data['num_constraints'] = num_rest\n",
        "  return data"
      ],
      "execution_count": 0,
      "outputs": []
    },
    {
      "cell_type": "code",
      "metadata": {
        "id": "5CL3u-vzJcKi",
        "colab_type": "code",
        "colab": {}
      },
      "source": [
        "data = create_data_model(a, b, c, var, rest)"
      ],
      "execution_count": 0,
      "outputs": []
    },
    {
      "cell_type": "code",
      "metadata": {
        "id": "Z2bPMJSulmPz",
        "colab_type": "code",
        "colab": {
          "base_uri": "https://localhost:8080/",
          "height": 272
        },
        "outputId": "b6fc6217-0f3f-453d-90fe-71c83a2bb097"
      },
      "source": [
        "solver = pywraplp.Solver('simple_mip_program', pywraplp.Solver.CBC_MIXED_INTEGER_PROGRAMMING)\n",
        "\n",
        "infinity = solver.infinity()\n",
        "x = {}\n",
        "\n",
        "for j in range(data['num_vars']):\n",
        "    x[j] = solver.NumVar(0, 1, 'x[%i]' % j) #Variáveis que pertencem ao conjunto entre 0 e 1\n",
        "\n",
        "print(\"\\n==== Solução inicial ====\\n \")\n",
        "print('\\n\\nNumero de variaveis =', solver.NumVariables())\n",
        "\n",
        "if igualdade == 'MoreOrEqual':\n",
        "  for i in range(data['num_constraints'] ): # -1 para nao add a ultima rest\n",
        "    constraint = solver.RowConstraint(data['bounds'][i], infinity, '')#limite inferior, superior e nome da restrição\n",
        "    for j in range(data['num_vars']):\n",
        "      constraint.SetCoefficient(x[j], data['constraint_coeffs'][i][j]) \n",
        "\n",
        "\n",
        "if igualdade == 'LessOrEqual':\n",
        "  for i in range(data['num_constraints'] ):\n",
        "    constraint = solver.RowConstraint(0, data['bounds'][i], '')\n",
        "    for j in range(data['num_vars']):\n",
        "      constraint.SetCoefficient(x[j], data['constraint_coeffs'][i][j]) \n",
        "\n",
        "print('Numero de restriçoes =', solver.NumConstraints())\n",
        "\n",
        "objective = solver.Objective()\n",
        "\n",
        "for j in range(data['num_vars']):\n",
        "    objective.SetCoefficient(x[j], data['obj_coeffs'][j])\n",
        "\n",
        "if obj == 'Max':\n",
        "  objective.SetMaximization() #Problema de maximização\n",
        "  status = solver.Solve()\n",
        "\n",
        "if obj == 'Min':\n",
        "  objective.SetMinimization() #Problema de minimização\n",
        "  status = solver.Solve()\n",
        "\n",
        "solution_value = []\n",
        "if status == pywraplp.Solver.OPTIMAL:\n",
        "    print('\\nValor ótimo = ', solver.Objective().Value())\n",
        "    for j in range(data['num_vars']):\n",
        "        print(x[j].name(), ' = ', x[j].solution_value())\n",
        "        solution_value.append(x[j].solution_value()) \n",
        "    print()\n",
        "    print('Problema resolvido em %f milliseconds' % solver.wall_time())\n",
        "    print('Problema resolvido em %d nós' % solver.nodes())\n",
        "else:\n",
        "    print('Nao tem solucao otima.')\n",
        "\n",
        "solution = (solution_value, solver.Objective().Value())"
      ],
      "execution_count": 92,
      "outputs": [
        {
          "output_type": "stream",
          "text": [
            "\n",
            "==== Solução inicial ====\n",
            " \n",
            "\n",
            "\n",
            "Numero de variaveis = 3\n",
            "Numero de restriçoes = 2\n",
            "\n",
            "Valor ótimo =  12.0\n",
            "x[0]  =  1.0\n",
            "x[1]  =  0.5000000000000001\n",
            "x[2]  =  0.2499999999999999\n",
            "\n",
            "Problema resolvido em 4.000000 milliseconds\n",
            "Problema resolvido em 0 nós\n"
          ],
          "name": "stdout"
        }
      ]
    },
    {
      "cell_type": "markdown",
      "metadata": {
        "id": "PX4DD23fmJ4Y",
        "colab_type": "text"
      },
      "source": [
        "# Função para resolver cada restrição"
      ]
    },
    {
      "cell_type": "code",
      "metadata": {
        "id": "9sWBOm0gK97x",
        "colab_type": "code",
        "colab": {}
      },
      "source": [
        "from ortools.linear_solver import pywraplp\n",
        "\n",
        "def main (Data, igualdade): #Main para fazer o branch\n",
        "\n",
        "  solver = pywraplp.Solver('simple_mip_program', pywraplp.Solver.CBC_MIXED_INTEGER_PROGRAMMING)\n",
        "\n",
        "  infinity = solver.infinity()\n",
        "  x = {}\n",
        "\n",
        "  for j in range(Data['num_vars']):\n",
        "      x[j] = solver.NumVar(0, 1, 'x[%i]' % j) #Variáveis positivas entre 0 e 1\n",
        "  \n",
        "  print(\"\\n==== Solução ====\\n \")\n",
        "  print('\\n\\nNumero de variaveis =', solver.NumVariables())\n",
        "  \n",
        "  for i in range(Data['num_constraints'] - 1 ): # -1 para nao add a ultima rest\n",
        "    constraint = solver.RowConstraint(Data['bounds'][i], infinity, '')#limite inferior, superior e nome da restrição\n",
        "    for j in range(Data['num_vars']):\n",
        "      constraint.SetCoefficient(x[j], Data['constraint_coeffs'][i][j]) \n",
        "\n",
        "  n = Data['num_constraints'] - 1 # para adicionar a ultima restrição\n",
        "  \n",
        "  if igualdade == 'MoreOrEqual':\n",
        "    constraint = solver.RowConstraint(Data['bounds'][n], infinity, '')\n",
        "    for j in range(Data['num_vars']):\n",
        "      constraint.SetCoefficient(x[j], Data['constraint_coeffs'][n][j])\n",
        "  \n",
        "  if igualdade == 'LessOrEqual':\n",
        "    constraint = solver.RowConstraint(0, Data['bounds'][n], '')\n",
        "    for j in range(Data['num_vars']):\n",
        "      constraint.SetCoefficient(x[j], Data['constraint_coeffs'][n][j]) \n",
        "\n",
        "  print('Numero de restriçoes =', solver.NumConstraints())\n",
        "\n",
        "  objective = solver.Objective()\n",
        "  \n",
        "  for j in range(Data['num_vars']):\n",
        "      objective.SetCoefficient(x[j], Data['obj_coeffs'][j])\n",
        "  \n",
        "  if obj == 'Max':\n",
        "    objective.SetMaximization() #Problema de maximização\n",
        "    status = solver.Solve()\n",
        "\n",
        "  if obj == 'Min':\n",
        "    objective.SetMinimization() #Problema de minimização\n",
        "    status = solver.Solve()\n",
        "\n",
        "  solution_value = []\n",
        "  if status == pywraplp.Solver.OPTIMAL:\n",
        "      print('\\nValor ótimo = ', solver.Objective().Value())\n",
        "      for j in range(Data['num_vars']):\n",
        "          print(x[j].name(), ' = ', x[j].solution_value())\n",
        "          solution_value.append(x[j].solution_value()) \n",
        "      print()\n",
        "      print('Problema resolvido em %f milliseconds' % solver.wall_time())\n",
        "      print('Problema resolvido em %d nós' % solver.nodes())\n",
        "  else:\n",
        "      print('Nao tem solucao otima.')\n",
        "      \n",
        "  return (solution_value, solver.Objective().Value())"
      ],
      "execution_count": 0,
      "outputs": []
    },
    {
      "cell_type": "markdown",
      "metadata": {
        "id": "9gpgGVDrfZL5",
        "colab_type": "text"
      },
      "source": [
        "# Adicionar uma restrição no modelo"
      ]
    },
    {
      "cell_type": "code",
      "metadata": {
        "id": "U7lbhsuBJetZ",
        "colab_type": "code",
        "colab": {}
      },
      "source": [
        "def append_data_model (Data, x, b): #Adiciona ao modelo uma restrição\n",
        "    if x == -1:\n",
        "      return Data\n",
        "\n",
        "    A = Data['constraint_coeffs']\n",
        "    B = Data['bounds']\n",
        "    C = Data['obj_coeffs']\n",
        "    num_vars = Data['num_vars']\n",
        "    num_rest = Data['num_constraints'] + 1\n",
        "\n",
        "    data = {} #Criando outro data para nao alterar oq vir do parametro\n",
        "    data['constraint_coeffs'] = A\n",
        "    data['bounds'] = B\n",
        "    data['obj_coeffs'] = C\n",
        "    data['num_vars'] = num_vars\n",
        "    data['num_constraints'] = num_rest\n",
        "\n",
        "    #Dar um append na restrição indicando qual coeficiente do x é, se for x1, o array é [1 0 0]\n",
        "    x0 = np.array([[1, 0, 0]])\n",
        "    x1 = np.array([[0, 1, 0]])\n",
        "    x2 = np.array([[0, 0, 1]])\n",
        "\n",
        "    if x == 0: #x indica qual x's é na restric]ção\n",
        "      data['constraint_coeffs'] = np.append(A, x0, axis=0)\n",
        "    if x == 1:\n",
        "      data['constraint_coeffs'] = np.append(A, x1, axis=0)\n",
        "    if x == 2:\n",
        "      data['constraint_coeffs'] = np.append(A, x2, axis=0)\n",
        "\n",
        "    #Dar append no lado direito da igualdade\n",
        "    data['bounds'] = np.append(B, b)\n",
        "\n",
        "    return data"
      ],
      "execution_count": 0,
      "outputs": []
    },
    {
      "cell_type": "markdown",
      "metadata": {
        "id": "U4Z7O3S0fj0-",
        "colab_type": "text"
      },
      "source": [
        "# Exemplo de quemo fica o modelo adicionando as restrições"
      ]
    },
    {
      "cell_type": "code",
      "metadata": {
        "id": "ePpMfTf-J35m",
        "colab_type": "code",
        "colab": {}
      },
      "source": [
        "data1 = append_data_model(data, 1, 0)\n",
        "data2 = append_data_model(data, 1, 1)"
      ],
      "execution_count": 0,
      "outputs": []
    },
    {
      "cell_type": "code",
      "metadata": {
        "id": "resNRnbsNlau",
        "colab_type": "code",
        "outputId": "6ee76211-cd2c-407f-82a2-0ee35b29bfc6",
        "colab": {
          "base_uri": "https://localhost:8080/",
          "height": 139
        }
      },
      "source": [
        "print(data1)\n",
        "print(data2)"
      ],
      "execution_count": 95,
      "outputs": [
        {
          "output_type": "stream",
          "text": [
            "{'constraint_coeffs': array([[3., 5., 2.],\n",
            "       [4., 4., 4.],\n",
            "       [0., 1., 0.]]), 'bounds': array([6., 7., 0.]), 'obj_coeffs': array([ 5., 10.,  8.]), 'num_vars': 3, 'num_constraints': 3}\n",
            "{'constraint_coeffs': array([[3., 5., 2.],\n",
            "       [4., 4., 4.],\n",
            "       [0., 1., 0.]]), 'bounds': array([6., 7., 1.]), 'obj_coeffs': array([ 5., 10.,  8.]), 'num_vars': 3, 'num_constraints': 3}\n"
          ],
          "name": "stdout"
        }
      ]
    },
    {
      "cell_type": "code",
      "metadata": {
        "id": "lTACmv75EFBz",
        "colab_type": "code",
        "outputId": "63889d8a-95df-41c3-e209-a907c3fa64a5",
        "colab": {
          "base_uri": "https://localhost:8080/",
          "height": 425
        }
      },
      "source": [
        "main(data1, \"LessOrEqual\")\n",
        "main(data2, \"MoreOrEqual\")"
      ],
      "execution_count": 96,
      "outputs": [
        {
          "output_type": "stream",
          "text": [
            "\n",
            "==== Solução ====\n",
            " \n",
            "\n",
            "\n",
            "Numero de variaveis = 3\n",
            "Numero de restriçoes = 3\n",
            "Nao tem solucao otima.\n",
            "\n",
            "==== Solução ====\n",
            " \n",
            "\n",
            "\n",
            "Numero de variaveis = 3\n",
            "Numero de restriçoes = 3\n",
            "\n",
            "Valor ótimo =  13.75\n",
            "x[0]  =  0.75\n",
            "x[1]  =  1.0\n",
            "x[2]  =  0.0\n",
            "\n",
            "Problema resolvido em 4.000000 milliseconds\n",
            "Problema resolvido em 0 nós\n"
          ],
          "name": "stdout"
        },
        {
          "output_type": "execute_result",
          "data": {
            "text/plain": [
              "([0.75, 1.0, 0.0], 13.75)"
            ]
          },
          "metadata": {
            "tags": []
          },
          "execution_count": 96
        }
      ]
    },
    {
      "cell_type": "markdown",
      "metadata": {
        "id": "_lw0A50AsyhL",
        "colab_type": "text"
      },
      "source": [
        "# Árvore"
      ]
    },
    {
      "cell_type": "code",
      "metadata": {
        "id": "j0aDVTOk5EeE",
        "colab_type": "code",
        "colab": {}
      },
      "source": [
        "class Tree(object):\n",
        "    def __init__(self, solution, modelo, left=None, right=None):\n",
        "        self.solution = solution\n",
        "        self.modelo = modelo\n",
        "        self.left = left\n",
        "        self.right = right"
      ],
      "execution_count": 0,
      "outputs": []
    },
    {
      "cell_type": "markdown",
      "metadata": {
        "id": "tT5W75EKDybs",
        "colab_type": "text"
      },
      "source": [
        "# Verificar se a variável é um número inteiro"
      ]
    },
    {
      "cell_type": "code",
      "metadata": {
        "id": "MjM58-XDDwVd",
        "colab_type": "code",
        "colab": {}
      },
      "source": [
        "def isInt (string):\n",
        "  t = True\n",
        "  for i in range(len(string)):\n",
        "    if string[i] == '.':\n",
        "      \n",
        "      j=i+1\n",
        "      if j >=len(string):\n",
        "        return t\n",
        "      for j in range(j,len(string)):\n",
        "        if int(string[j]) != 0:\n",
        "          t = False\n",
        "  return t"
      ],
      "execution_count": 0,
      "outputs": []
    },
    {
      "cell_type": "markdown",
      "metadata": {
        "id": "XEIxUUfSEBBY",
        "colab_type": "text"
      },
      "source": [
        "# Verificar integralidade e a menor distância entre as variáveis\n",
        "- O valor abs da diminuição com o valor da variável\n",
        "- retorna o indice da variável (para poder adicionar depois na restrição)\n",
        "- se retornar -1 quer dizer q todos os valores são inteiros"
      ]
    },
    {
      "cell_type": "code",
      "metadata": {
        "id": "XpfMo8Ed5UcK",
        "colab_type": "code",
        "colab": {}
      },
      "source": [
        "def Verifica_integralidade(Solution):\n",
        "    episilon = 10e3; #colocando um valor grande para iniciar\n",
        "    Index_Da_menor_dist = -1  # Se for -1 todos os x são inteiros\n",
        "\n",
        "    # precisa verificar se os valores em x são inteiros e verificar se está próximo de 0.5\n",
        "\n",
        "    for i in range(len(Solution)): #menor que 1 pois o ultimo é o valor de z\n",
        "      if isInt(str(Solution[i])) == False: #Se for false, quer dizer que tem dígito\n",
        "        distancia = abs(Solution[i] - 0.5)\n",
        "\n",
        "        if distancia < episilon: #Se esse valor for menor do que oq já tem no episilon, coloca ele lá\n",
        "          episilon = distancia\n",
        "          Index_Da_menor_dist = i\n",
        "\n",
        "    return Index_Da_menor_dist"
      ],
      "execution_count": 0,
      "outputs": []
    },
    {
      "cell_type": "markdown",
      "metadata": {
        "id": "1y_tmCFy5tJp",
        "colab_type": "text"
      },
      "source": [
        "# Pilha\n",
        "- Na pilha é colocado a solução do dual e primal\n",
        "- No momento da inserção da solução na pilha, precisa verificar:\n",
        "      - Se tiver vazia, só insere\n",
        "      - Se não tiver vazia, verifica se a solução é inteira (integralidade) e se a solução que já está lá é melhor que será inserida (limitante)"
      ]
    },
    {
      "cell_type": "code",
      "metadata": {
        "id": "Krq_Gx8b5vqb",
        "colab_type": "code",
        "outputId": "740c114d-0e5e-4b9b-a7d2-669d7b1fcb5b",
        "colab": {
          "base_uri": "https://localhost:8080/",
          "height": 34
        }
      },
      "source": [
        "!pip install pythonds"
      ],
      "execution_count": 77,
      "outputs": [
        {
          "output_type": "stream",
          "text": [
            "Requirement already satisfied: pythonds in /usr/local/lib/python3.6/dist-packages (1.2.1)\n"
          ],
          "name": "stdout"
        }
      ]
    },
    {
      "cell_type": "code",
      "metadata": {
        "id": "6i3dTuTvE0pK",
        "colab_type": "code",
        "colab": {}
      },
      "source": [
        "from pythonds.basic.stack import Stack\n",
        "menosInfinity = -9999 \n",
        "maisInfinity = 9999\n",
        "\n",
        "class Pilha:\n",
        "  def __init__(self):\n",
        "    self.items = [[[], menosInfinity], [[], maisInfinity]] #DUAL e PRIMAL minimização\n",
        "\n",
        "  def isEmpty(self):\n",
        "    return self.items == [[[], menosInfinity], [[], maisInfinity]]\n",
        "  \n",
        "  def push(self, item):   \n",
        "    \n",
        "    vars = item[0]\n",
        "    tamVars = len(vars)\n",
        "\n",
        "    vAdd = item[1]\n",
        "    dual = pilha.see()[0]\n",
        "    primal = pilha.see()[1]\n",
        "\n",
        "    if self.isEmpty() != True: #Se não tiver vazia\n",
        "      t = -1\n",
        "      for i in range(0, tamVars): #percorrer os x's\n",
        "        if isInt(str(vars[i])) != True: #se tiver um NAO inteiro \n",
        "          t = 0\n",
        "          break\n",
        "      if t == 0 and vAdd >= dual[1] and vAdd != 0 or dual[1] == maisInfinity: #se o valor otimo for maior que o dual, adiciona      \n",
        "        self.items.append(item)\n",
        "        self.items.append(primal)\n",
        "          \n",
        "      if t == -1 and vAdd <= primal[1] and vAdd != 0 or primal[1] == menosInfinity: #se for inteiro e o valor for menor, add o primal \"==infinity para caso seja infinito adicionar\"\n",
        "        self.items.append(dual)\n",
        "        self.items.append(item)\n",
        "      \n",
        "    elif self.isEmpty() == True: #Se tiver vazia, adiciona \n",
        "      self.items.append(item)\n",
        "      self.items.append(primal)\n",
        "      \n",
        "  def pop(self):\n",
        "    return self.items.pop()\n",
        "\n",
        "  def see(self):\n",
        "    return (self.items[len(self.items)-2], self.items[len(self.items)-1])\n",
        "\n",
        "pilha = Pilha()"
      ],
      "execution_count": 0,
      "outputs": []
    },
    {
      "cell_type": "markdown",
      "metadata": {
        "id": "zx22ym17gceN",
        "colab_type": "text"
      },
      "source": [
        "# Exemplo como fica a pilha"
      ]
    },
    {
      "cell_type": "code",
      "metadata": {
        "id": "ST_koaHR1EOh",
        "colab_type": "code",
        "outputId": "e33e1c38-3aff-40b9-b6d5-d153a08d871d",
        "colab": {
          "base_uri": "https://localhost:8080/",
          "height": 34
        }
      },
      "source": [
        "pilha.see()"
      ],
      "execution_count": 79,
      "outputs": [
        {
          "output_type": "execute_result",
          "data": {
            "text/plain": [
              "([[], -9999], [[], 9999])"
            ]
          },
          "metadata": {
            "tags": []
          },
          "execution_count": 79
        }
      ]
    },
    {
      "cell_type": "code",
      "metadata": {
        "id": "I8UURlFPNpdt",
        "colab_type": "code",
        "outputId": "d87e8cb1-89cc-487d-ca8c-204d587af2b1",
        "colab": {
          "base_uri": "https://localhost:8080/",
          "height": 34
        }
      },
      "source": [
        "pilha.push([[0.75, 1.0, 0.0], 13.75]) #Adicioanndo um x's nao inteiros, adiciona no dual\n",
        "print(pilha.see())"
      ],
      "execution_count": 80,
      "outputs": [
        {
          "output_type": "stream",
          "text": [
            "([[0.75, 1.0, 0.0], 13.75], [[], 9999])\n"
          ],
          "name": "stdout"
        }
      ]
    },
    {
      "cell_type": "code",
      "metadata": {
        "id": "dJG-KeRii8rx",
        "colab_type": "code",
        "outputId": "6f4ca619-40ca-441d-fea4-4b865d493933",
        "colab": {
          "base_uri": "https://localhost:8080/",
          "height": 34
        }
      },
      "source": [
        "pilha.push([[1.0, 0.5000000000000001, 0.2499999999999999], 12.0]) #, caso a solução nao seja melhor que a que já tem nao adiciona no dual\n",
        "print(pilha.see())"
      ],
      "execution_count": 81,
      "outputs": [
        {
          "output_type": "stream",
          "text": [
            "([[0.75, 1.0, 0.0], 13.75], [[], 9999])\n"
          ],
          "name": "stdout"
        }
      ]
    },
    {
      "cell_type": "code",
      "metadata": {
        "id": "R5ecFNdBv4uR",
        "colab_type": "code",
        "outputId": "af62a621-2c33-4152-c020-276501b1a739",
        "colab": {
          "base_uri": "https://localhost:8080/",
          "height": 34
        }
      },
      "source": [
        "pilha.push([[0.5, 1, 18], 17]) #se a solucao do dual for melhor, adiciona\n",
        "print(pilha.see())"
      ],
      "execution_count": 82,
      "outputs": [
        {
          "output_type": "stream",
          "text": [
            "([[0.5, 1, 18], 17], [[], 9999])\n"
          ],
          "name": "stdout"
        }
      ]
    },
    {
      "cell_type": "code",
      "metadata": {
        "id": "oejgYJMJjRdL",
        "colab_type": "code",
        "outputId": "376bbf85-f33e-4a26-92b3-033a9d4cb3ec",
        "colab": {
          "base_uri": "https://localhost:8080/",
          "height": 34
        }
      },
      "source": [
        "pilha.push([[1, 1, 1], 5]) #se for com criterio de integralidade, adiciona no primal\n",
        "print(pilha.see())"
      ],
      "execution_count": 83,
      "outputs": [
        {
          "output_type": "stream",
          "text": [
            "([[0.5, 1, 18], 17], [[1, 1, 1], 5])\n"
          ],
          "name": "stdout"
        }
      ]
    },
    {
      "cell_type": "code",
      "metadata": {
        "id": "-PaFzCK-zXVq",
        "colab_type": "code",
        "outputId": "e57bbf78-69a1-4319-efd2-927094a188a4",
        "colab": {
          "base_uri": "https://localhost:8080/",
          "height": 34
        }
      },
      "source": [
        "pilha.push([[1, 1, 1], 18]) #se for maior nao adiciona no primal\n",
        "print(pilha.see())"
      ],
      "execution_count": 84,
      "outputs": [
        {
          "output_type": "stream",
          "text": [
            "([[0.5, 1, 18], 17], [[1, 1, 1], 5])\n"
          ],
          "name": "stdout"
        }
      ]
    },
    {
      "cell_type": "code",
      "metadata": {
        "id": "oe9qkuZ1M8K1",
        "colab_type": "code",
        "outputId": "80c906f7-c8a8-470f-a148-badc5f39f10a",
        "colab": {
          "base_uri": "https://localhost:8080/",
          "height": 34
        }
      },
      "source": [
        "pilha.push([[1, 1, 1], 1]) #se for menor adiciona no primal\n",
        "print(pilha.see())"
      ],
      "execution_count": 85,
      "outputs": [
        {
          "output_type": "stream",
          "text": [
            "([[0.5, 1, 18], 17], [[1, 1, 1], 1])\n"
          ],
          "name": "stdout"
        }
      ]
    },
    {
      "cell_type": "code",
      "metadata": {
        "id": "tQnDTrjpM0VV",
        "colab_type": "code",
        "outputId": "942817f0-3044-4e3e-feb1-5e13b21a99b2",
        "colab": {
          "base_uri": "https://localhost:8080/",
          "height": 34
        }
      },
      "source": [
        "pilha = Pilha() #reinicializando a pilha\n",
        "print(pilha.see())"
      ],
      "execution_count": 86,
      "outputs": [
        {
          "output_type": "stream",
          "text": [
            "([[], -9999], [[], 9999])\n"
          ],
          "name": "stdout"
        }
      ]
    },
    {
      "cell_type": "markdown",
      "metadata": {
        "id": "dGOCRtaihdzG",
        "colab_type": "text"
      },
      "source": [
        "# Adicionando lado direito e esquerdo da árvore"
      ]
    },
    {
      "cell_type": "code",
      "metadata": {
        "id": "b6XWuuKXkDjg",
        "colab_type": "code",
        "colab": {}
      },
      "source": [
        "def AddArv(arv, data_left, data_right):\n",
        "  solution_right = main(data_right, 'MoreOrEqual' )\n",
        "  solution_left  = main(data_left, 'LessOrEqual' )\n",
        "\n",
        "  arv.left  = Tree( solution_left, data_left  ) \n",
        "  arv.right  = Tree( solution_right, data_right )\n",
        "\n",
        "  pilha.push(solution_right)\n",
        "  pilha.push(solution_left )\n",
        "\n",
        "  print(\"\\nNó pai\\n \", arv.solution)\n",
        "  print(\"\\nLADO ESQUERDO:\\n\", arv.left.solution)\n",
        "  print(\"LADO DIREITO: \\n\", arv.right.solution)\n",
        "\n",
        "  print(\"Dual: %f Primal: %f\\n\" % (pilha.see()[0][1], pilha.see()[1][1]))"
      ],
      "execution_count": 0,
      "outputs": []
    },
    {
      "cell_type": "markdown",
      "metadata": {
        "id": "AAaKWmzThhph",
        "colab_type": "text"
      },
      "source": [
        "# Percorrendo a arvore"
      ]
    },
    {
      "cell_type": "code",
      "metadata": {
        "id": "I367hpNULJiM",
        "colab_type": "code",
        "colab": {}
      },
      "source": [
        "def Profun (tree):\n",
        "  primal = pilha.see()[1][1]\n",
        "  dual = pilha.see()[0][1]\n",
        "\n",
        "  index = Verifica_integralidade(tree.solution[0])\n",
        "  \n",
        "  if ( index != - 1 and tree.solution[1] != 0 and tree.solution[1] <= primal and tree.solution[1] <= dual): #se tiver soluções x1,x2,x3, e verif integridade\n",
        "    \n",
        "    b_limite_para_cima  = (\"%0.f\") % tree.solution[0][index] #lado arredondado. se for 0.5 fica 1\n",
        "    b_limite_para_baixo = (\"%d\"  ) % tree.solution[0][index] #lado inteiro. se for 0.5 fica 0\n",
        "\n",
        "    data_left  = append_data_model(tree.modelo, int(index), int(b_limite_para_baixo ))\n",
        "    data_right = append_data_model(tree.modelo, int(index), int(b_limite_para_cima ))\n",
        "\n",
        "    AddArv(tree, data_left, data_right) #Adiciona o lado esquerdo e direito na arvore\n",
        "\n",
        "    index_left = Verifica_integralidade(tree.left.solution[0])\n",
        "    index_right = Verifica_integralidade(tree.right.solution[0])\n",
        "\n",
        "    if index_left != -1 and tree.left.solution[1] <= primal and tree.left.solution[1] <= dual:\n",
        "      Profun (tree.left)\n",
        "\n",
        "    if index_right != -1 and tree.right.solution[1] <= primal and tree.right.solution[1] <= dual:\n",
        "      Profun (tree.right)\n",
        "    \n",
        "  else :\n",
        "    return 0"
      ],
      "execution_count": 0,
      "outputs": []
    },
    {
      "cell_type": "code",
      "metadata": {
        "id": "2pOjKCDBNgAE",
        "colab_type": "code",
        "outputId": "a3d8f1bb-9060-42b5-c3ae-861c90c4f34d",
        "colab": {
          "base_uri": "https://localhost:8080/",
          "height": 1000
        }
      },
      "source": [
        "tree = Tree(solution, data)\n",
        "pilha.push(tree.solution)\n",
        "print(pilha.see())\n",
        "\n",
        "print(\"======== Iniciando a árvore =========\\n\")\n",
        "Profun(tree)\n",
        "Profun(tree)"
      ],
      "execution_count": 97,
      "outputs": [
        {
          "output_type": "stream",
          "text": [
            "(([1.0, 0.5000000000000001, 0.2499999999999999], 12.0), ([1.0, 1.0, 1.0], 23.0))\n",
            "======== Iniciando a árvore =========\n",
            "\n",
            "\n",
            "==== Solução ====\n",
            " \n",
            "\n",
            "\n",
            "Numero de variaveis = 3\n",
            "Numero de restriçoes = 3\n",
            "\n",
            "Valor ótimo =  13.75\n",
            "x[0]  =  0.75\n",
            "x[1]  =  1.0\n",
            "x[2]  =  0.0\n",
            "\n",
            "Problema resolvido em 2.000000 milliseconds\n",
            "Problema resolvido em 0 nós\n",
            "\n",
            "==== Solução ====\n",
            " \n",
            "\n",
            "\n",
            "Numero de variaveis = 3\n",
            "Numero de restriçoes = 3\n",
            "Nao tem solucao otima.\n",
            "\n",
            "Nó pai\n",
            "  ([1.0, 0.5000000000000001, 0.2499999999999999], 12.0)\n",
            "\n",
            "LADO ESQUERDO:\n",
            " ([], 0.0)\n",
            "LADO DIREITO: \n",
            " ([0.75, 1.0, 0.0], 13.75)\n",
            "Dual: 13.750000 Primal: 23.000000\n",
            "\n",
            "\n",
            "==== Solução ====\n",
            " \n",
            "\n",
            "\n",
            "Numero de variaveis = 3\n",
            "Numero de restriçoes = 3\n",
            "\n",
            "Valor ótimo =  13.75\n",
            "x[0]  =  0.75\n",
            "x[1]  =  1.0\n",
            "x[2]  =  0.0\n",
            "\n",
            "Problema resolvido em 5.000000 milliseconds\n",
            "Problema resolvido em 0 nós\n",
            "\n",
            "==== Solução ====\n",
            " \n",
            "\n",
            "\n",
            "Numero de variaveis = 3\n",
            "Numero de restriçoes = 3\n",
            "Nao tem solucao otima.\n",
            "\n",
            "Nó pai\n",
            "  ([1.0, 0.5000000000000001, 0.2499999999999999], 12.0)\n",
            "\n",
            "LADO ESQUERDO:\n",
            " ([], 0.0)\n",
            "LADO DIREITO: \n",
            " ([0.75, 1.0, 0.0], 13.75)\n",
            "Dual: 13.750000 Primal: 23.000000\n",
            "\n",
            "\n",
            "==== Solução ====\n",
            " \n",
            "\n",
            "\n",
            "Numero de variaveis = 3\n",
            "Numero de restriçoes = 4\n",
            "\n",
            "Valor ótimo =  15.0\n",
            "x[0]  =  1.0\n",
            "x[1]  =  1.0\n",
            "x[2]  =  0.0\n",
            "\n",
            "Problema resolvido em 5.000000 milliseconds\n",
            "Problema resolvido em 0 nós\n",
            "\n",
            "==== Solução ====\n",
            " \n",
            "\n",
            "\n",
            "Numero de variaveis = 3\n",
            "Numero de restriçoes = 4\n",
            "\n",
            "Valor ótimo =  16.0\n",
            "x[0]  =  0.0\n",
            "x[1]  =  1.0\n",
            "x[2]  =  0.75\n",
            "\n",
            "Problema resolvido em 3.000000 milliseconds\n",
            "Problema resolvido em 0 nós\n",
            "\n",
            "Nó pai\n",
            "  ([0.75, 1.0, 0.0], 13.75)\n",
            "\n",
            "LADO ESQUERDO:\n",
            " ([0.0, 1.0, 0.75], 16.0)\n",
            "LADO DIREITO: \n",
            " ([1.0, 1.0, 0.0], 15.0)\n",
            "Dual: 16.000000 Primal: 15.000000\n",
            "\n"
          ],
          "name": "stdout"
        }
      ]
    },
    {
      "cell_type": "code",
      "metadata": {
        "id": "aicSz7X3bn6f",
        "colab_type": "code",
        "outputId": "c86a8494-b414-459f-b99c-b546eee39fe1",
        "colab": {
          "base_uri": "https://localhost:8080/",
          "height": 68
        }
      },
      "source": [
        "solucao = pilha.see()\n",
        "print(\"Solução que está na pilha = \")\n",
        "print(solucao)\n",
        "print()"
      ],
      "execution_count": 98,
      "outputs": [
        {
          "output_type": "stream",
          "text": [
            "Solução que está na pilha = \n",
            "(([0.0, 1.0, 0.75], 16.0), ([1.0, 1.0, 0.0], 15.0))\n",
            "\n"
          ],
          "name": "stdout"
        }
      ]
    },
    {
      "cell_type": "code",
      "metadata": {
        "id": "L7M4JoQZqZ9q",
        "colab_type": "code",
        "outputId": "d2e26746-63e2-400e-9a67-668e0c27eefd",
        "colab": {
          "base_uri": "https://localhost:8080/",
          "height": 102
        }
      },
      "source": [
        "print(\"Solução ótima: \")\n",
        "x = solucao[1][0]\n",
        "z = solucao[1][1]\n",
        "\n",
        "print(\"x1 = %d\" % x[0])\n",
        "print(\"x2 = %d\" % x[1])\n",
        "print(\"x3 = %d\" % x[2])\n",
        "print(\"Solucao z = %d\" % z)"
      ],
      "execution_count": 99,
      "outputs": [
        {
          "output_type": "stream",
          "text": [
            "Solução ótima: \n",
            "x1 = 1\n",
            "x2 = 1\n",
            "x3 = 0\n",
            "Solucao z = 15\n"
          ],
          "name": "stdout"
        }
      ]
    },
    {
      "cell_type": "code",
      "metadata": {
        "id": "m5G4KQAPrDE3",
        "colab_type": "code",
        "colab": {}
      },
      "source": [
        ""
      ],
      "execution_count": 0,
      "outputs": []
    }
  ]
}